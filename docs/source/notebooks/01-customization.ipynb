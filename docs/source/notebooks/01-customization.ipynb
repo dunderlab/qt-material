{
 "cells": [
  {
   "metadata": {},
   "cell_type": "markdown",
   "source": [
    "# Customization Guide\n",
    "\n",
    "This notebook demonstrates how to customize Qt-Material themes, including color schemes, font styles, and advanced stylesheet modifications.\n"
   ],
   "id": "67f0d70e6f8b7c26"
  },
  {
   "metadata": {},
   "cell_type": "markdown",
   "source": [
    "## Theme Customization\n",
    "\n",
    "To create a custom theme, edit the color values directly in an XML file with the following format:"
   ],
   "id": "2412e8e5954adff0"
  },
  {
   "metadata": {},
   "cell_type": "code",
   "outputs": [],
   "execution_count": null,
   "source": [
    "<!--?xml version=\"1.0\" encoding=\"UTF-8\"?-->\n",
    "<resources>\n",
    "<color name=\"primaryColor\">#00e5ff</color>\n",
    "<color name=\"primaryLightColor\">#6effff</color>\n",
    "<color name=\"secondaryColor\">#f5f5f5</color>\n",
    "<color name=\"secondaryLightColor\">#ffffff</color>\n",
    "<color name=\"secondaryDarkColor\">#e6e6e6</color>\n",
    "<color name=\"primaryTextColor\">#000000</color>\n",
    "<color name=\"secondaryTextColor\">#000000</color>\n",
    "</resources>"
   ],
   "id": "5ff9a697453aebc9"
  },
  {
   "metadata": {},
   "cell_type": "markdown",
   "source": "Save it as `my_theme.xml` or similar and apply the style sheet from Python.",
   "id": "957bb364d9c2ccdf"
  },
  {
   "metadata": {},
   "cell_type": "code",
   "outputs": [],
   "execution_count": null,
   "source": "apply_stylesheet(app, theme='dark_teal.xml')",
   "id": "fc00dbca7b22cd4d"
  },
  {
   "metadata": {},
   "cell_type": "markdown",
   "source": [
    "## Custom QPushButton Styles and Fonts\n",
    "\n",
    "You can customize the appearance of `QPushButton` widgets by using the `extra` argument when applying the stylesheet. This allows you to define custom colors and fonts."
   ],
   "id": "8a03d11fa53851cf"
  },
  {
   "metadata": {},
   "cell_type": "code",
   "outputs": [],
   "execution_count": null,
   "source": [
    "extra = {\n",
    "    # Button colors\n",
    "    'danger': '#dc3545',\n",
    "    'warning': '#ffc107',\n",
    "    'success': '#17a2b8',\n",
    "\n",
    "    # Font\n",
    "    'font_family': 'Roboto',\n",
    "}\n",
    "\n",
    "apply_stylesheet(app, 'light_cyan.xml', invert_secondary=True, extra=extra)"
   ],
   "id": "8130c8a15cab3ac9"
  },
  {
   "metadata": {},
   "cell_type": "markdown",
   "source": "To apply a specific style to a button, use the `setProperty()` method with the appropriate class name:",
   "id": "34eafaefc1b0faec"
  },
  {
   "metadata": {},
   "cell_type": "code",
   "outputs": [],
   "execution_count": null,
   "source": [
    "pushButton_danger.setProperty('class', 'danger')\n",
    "pushButton_warning.setProperty('class', 'warning')\n",
    "pushButton_success.setProperty('class', 'success')"
   ],
   "id": "5c1f1ec7b97a6395"
  },
  {
   "metadata": {},
   "cell_type": "markdown",
   "source": "This will apply the color defined for each class in the stylesheet.",
   "id": "74bc47e102241695"
  },
  {
   "metadata": {},
   "cell_type": "markdown",
   "source": "![extra](_images/extra.png)",
   "id": "e926483db41492ed"
  },
  {
   "metadata": {},
   "cell_type": "markdown",
   "source": [
    "## Custom stylesheets\n",
    "\n",
    "You can override or extend the default Qt-Material styles using an external `.css` file.\n",
    "\n",
    "Example `custom.css` content:"
   ],
   "id": "a8adca806e298b73"
  },
  {
   "metadata": {},
   "cell_type": "code",
   "outputs": [],
   "execution_count": null,
   "source": [
    "QPushButton {{\n",
    "  color: {QTMATERIAL_SECONDARYCOLOR};\n",
    "  text-transform: none;\n",
    "  background-color: {QTMATERIAL_PRIMARYCOLOR};\n",
    "}}\n",
    "\n",
    ".big_button {{\n",
    "  height: 64px;\n",
    "}}"
   ],
   "id": "5c7d237ec5aebb40"
  },
  {
   "metadata": {},
   "cell_type": "markdown",
   "source": "### Apply the stylesheet:",
   "id": "c2d6035f29ef4f1a"
  },
  {
   "metadata": {},
   "cell_type": "code",
   "outputs": [],
   "execution_count": null,
   "source": "apply_stylesheet(app, theme='light_blue.xml', css_file='custom.css')",
   "id": "8b0ed167e17490f"
  },
  {
   "metadata": {},
   "cell_type": "markdown",
   "source": [
    "### Runtime update:\n",
    "\n",
    "You can also apply a custom stylesheet dynamically at runtime:"
   ],
   "id": "63c8250d80110eda"
  },
  {
   "metadata": {},
   "cell_type": "code",
   "outputs": [],
   "execution_count": null,
   "source": [
    "stylesheet = app.styleSheet()\n",
    "with open('custom.css') as file:\n",
    "    app.setStyleSheet(stylesheet + file.read().format(**os.environ))"
   ],
   "id": "3d3e98422e53340e"
  },
  {
   "metadata": {},
   "cell_type": "markdown",
   "source": "To apply a class-based style:",
   "id": "3ae6602345ffea13"
  },
  {
   "metadata": {},
   "cell_type": "code",
   "outputs": [],
   "execution_count": null,
   "source": "self.main.pushButton.setProperty('class', 'big_button')",
   "id": "aa0a6e424e583256"
  },
  {
   "metadata": {},
   "cell_type": "markdown",
   "source": "This allows you to modularly apply different layout or visual rules without modifying the core theme.",
   "id": "8e8d73ec1057cff3"
  },
  {
   "metadata": {},
   "cell_type": "markdown",
   "source": "![extra](_images/custom.png)",
   "id": "3da1f1964b11de08"
  },
  {
   "metadata": {},
   "cell_type": "markdown",
   "source": [
    "## Remove theme from single widget\n",
    "\n",
    "In some cases, you might want to exclude a specific widget from the global theme.\n",
    "You can reset the style for that widget using:\n",
    "\n",
    "~~~python\n",
    "widget.setStyleSheet('')\n",
    "~~~\n",
    "\n",
    "This removes all inherited styling, making the widget fallback to the system or Qt default appearance. Useful for custom painting or embedded platform-native controls."
   ],
   "id": "db27e5e13efe1ae1"
  },
  {
   "metadata": {},
   "cell_type": "markdown",
   "source": [
    "## Density scale\n",
    "\n",
    "The `extra` argument also includes an option to control the **density scale**, which affects the spacing and sizing of UI elements. By default, the scale is set to `0`.\n",
    "\n",
    "You can reduce or increase density using negative or positive values:"
   ],
   "id": "4028f301a9972"
  },
  {
   "metadata": {},
   "cell_type": "code",
   "outputs": [],
   "execution_count": null,
   "source": [
    "extra = {\n",
    "    'density_scale': '-2',  # Lower density (more compact layout)\n",
    "}\n",
    "\n",
    "apply_stylesheet(app, 'default', invert_secondary=False, extra=extra)"
   ],
   "id": "6855bc2385f00ef1"
  },
  {
   "metadata": {},
   "cell_type": "markdown",
   "source": "This setting is helpful for adapting your UI to different screen sizes or accessibility preferences.",
   "id": "f12f72920433b9cd"
  },
  {
   "metadata": {},
   "cell_type": "markdown",
   "source": "![dock](_images/density.gif)",
   "id": "1a20c8dfbb878550"
  }
 ],
 "metadata": {
  "kernelspec": {
   "display_name": "Python 3",
   "language": "python",
   "name": "python3"
  },
  "language_info": {
   "codemirror_mode": {
    "name": "ipython",
    "version": 2
   },
   "file_extension": ".py",
   "mimetype": "text/x-python",
   "name": "python",
   "nbconvert_exporter": "python",
   "pygments_lexer": "ipython2",
   "version": "2.7.6"
  }
 },
 "nbformat": 4,
 "nbformat_minor": 5
}
