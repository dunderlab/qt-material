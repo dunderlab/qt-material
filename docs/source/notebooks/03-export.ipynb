{
 "cells": [
  {
   "metadata": {},
   "cell_type": "markdown",
   "source": [
    "# Export Guide\n",
    "\n",
    "This notebook demonstrates how to export a Qt-Material theme into local `.qss` and `.rcc` files for use in Python or C++ applications, even without needing the Python package at runtime."
   ],
   "id": "1d7d802b3fec4ba8"
  },
  {
   "metadata": {},
   "cell_type": "markdown",
   "source": [
    "## Export theme\n",
    "\n",
    "You can export a complete theme including styles and resources using the `export_theme()` function:"
   ],
   "id": "bd57568a0a164e86"
  },
  {
   "metadata": {},
   "cell_type": "code",
   "outputs": [],
   "execution_count": null,
   "source": [
    "from qt_material import export_theme\n",
    "\n",
    "extra = {\n",
    "    # Button colors\n",
    "    'danger': '#dc3545',\n",
    "    'warning': '#ffc107',\n",
    "    'success': '#17a2b8',\n",
    "\n",
    "    # Font\n",
    "    'font_family': 'monoespace',\n",
    "    'font_size': '13px',\n",
    "    'line_height': '13px',\n",
    "\n",
    "    # Density Scale\n",
    "    'density_scale': '0',\n",
    "\n",
    "    # Environment hints\n",
    "    'pyside6': True,\n",
    "    'linux': True,\n",
    "\n",
    "}\n",
    "\n",
    "export_theme(theme='dark_teal.xml',\n",
    "             qss='dark_teal.qss',\n",
    "             rcc='resources.rcc',\n",
    "             output='theme',\n",
    "             prefix='icon:/',\n",
    "             invert_secondary=False,\n",
    "             extra=extra,\n",
    "            )"
   ],
   "id": "ec6821ded49da94c"
  },
  {
   "metadata": {},
   "cell_type": "markdown",
   "source": [
    "This command will generate:\n",
    "- `dark_teal.qss`: the compiled stylesheet\n",
    "- `resources.rcc`: the icon archive\n",
    "- A folder named `theme/` with all required icons"
   ],
   "id": "280dd0e08e6c124a"
  },
  {
   "metadata": {},
   "cell_type": "markdown",
   "source": "## Using the exported theme in PySide6",
   "id": "cd949981325d8ffe"
  },
  {
   "metadata": {},
   "cell_type": "code",
   "outputs": [],
   "execution_count": null,
   "source": [
    "import sys\n",
    "from PySide6 import QtWidgets\n",
    "from PySide6.QtCore import QDir\n",
    "\n",
    "app = QtWidgets.QApplication(sys.argv)\n",
    "\n",
    "# Load stylesheet\n",
    "with open('dark_teal.qss', 'r') as file:\n",
    "    app.setStyleSheet(file.read())\n",
    "\n",
    "# Register icon prefix\n",
    "QDir.addSearchPath('icon', 'theme')\n",
    "\n",
    "# Simple test window\n",
    "window = QtWidgets.QMainWindow()\n",
    "checkbox = QtWidgets.QCheckBox(window)\n",
    "checkbox.setText('CheckBox')\n",
    "window.show()\n",
    "app.exec()"
   ],
   "id": "239f0fb706fd0437"
  },
  {
   "metadata": {},
   "cell_type": "markdown",
   "source": [
    "## Cross-language support\n",
    "\n",
    "The exported `.qss` and `.rcc` files can also be integrated into non-Python projects, such as C++/Qt applications, without requiring `qt-material` or Python at all."
   ],
   "id": "92ae15c41e5988f1"
  },
  {
   "metadata": {},
   "cell_type": "markdown",
   "source": [
    "## New themes\n",
    "\n",
    "Do you have a custom theme? Does it look great?\n",
    "Feel free to contribute! Create a [pull request](https://github.com/dunderlab/qt-material/pulls) in the [themes folder](https://github.com/dunderlab/qt-material/tree/master/qt_material/themes) and share it with the community."
   ],
   "id": "ed0a71b6fb46e296"
  }
 ],
 "metadata": {
  "kernelspec": {
   "display_name": "Python 3",
   "language": "python",
   "name": "python3"
  },
  "language_info": {
   "codemirror_mode": {
    "name": "ipython",
    "version": 2
   },
   "file_extension": ".py",
   "mimetype": "text/x-python",
   "name": "python",
   "nbconvert_exporter": "python",
   "pygments_lexer": "ipython2",
   "version": "2.7.6"
  }
 },
 "nbformat": 4,
 "nbformat_minor": 5
}
