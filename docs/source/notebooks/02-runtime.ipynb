{
 "cells": [
  {
   "metadata": {},
   "cell_type": "markdown",
   "source": [
    "# Runtime Features\n",
    "\n",
    "This notebook demonstrates how to change themes dynamically, integrate theme selection menus, and use the dock interface to create and export new themes at runtime."
   ],
   "id": "27cdbca0896a570e"
  },
  {
   "metadata": {},
   "cell_type": "markdown",
   "source": [
    "## Change theme in runtime\n",
    "\n",
    "To enable dynamic theme switching at runtime, inherit from the `QtStyleTools` class alongside your main window. This gives access to the `apply_stylesheet()` method, which can be used to update the UI on the fly."
   ],
   "id": "6a18ef12f708955f"
  },
  {
   "metadata": {},
   "cell_type": "code",
   "outputs": [],
   "execution_count": null,
   "source": [
    "from qt_material import QtStyleTools, apply_stylesheet\n",
    "from PySide6.QtWidgets import QMainWindow\n",
    "from PySide6.QtUiTools import QUiLoader\n",
    "\n",
    "class RuntimeStylesheets(QMainWindow, QtStyleTools):\n",
    "    def __init__(self):\n",
    "        super().__init__()\n",
    "        self.main = QUiLoader().load('main_window.ui', self)\n",
    "\n",
    "        # Apply a theme at startup\n",
    "        self.apply_stylesheet(self.main, 'dark_teal.xml')\n",
    "\n",
    "        # Other theme options\n",
    "        # self.apply_stylesheet(self.main, 'light_red.xml')\n",
    "        # self.apply_stylesheet(self.main, 'light_blue.xml')"
   ],
   "id": "b5ee480679e7408"
  },
  {
   "metadata": {},
   "cell_type": "markdown",
   "source": "This approach allows your application to switch themes without restarting the interface.",
   "id": "c1d8b84a3ace387b"
  },
  {
   "metadata": {},
   "cell_type": "markdown",
   "source": "![run](_images/runtime.gif)",
   "id": "14856e64b641bfb4"
  },
  {
   "metadata": {},
   "cell_type": "markdown",
   "source": [
    "## Integrate stylesheets in a menu\n",
    "\n",
    "You can add a built-in menu to your application that lists and applies all available themes dynamically.\n",
    "\n",
    "To do this, use the `add_menu_theme()` method provided by `QtStyleTools`. This method attaches theme options to an existing `QMenu` object in your UI.\n"
   ],
   "id": "eb64d50268bca8f3"
  },
  {
   "metadata": {},
   "cell_type": "code",
   "outputs": [],
   "execution_count": null,
   "source": [
    "from qt_material import QtStyleTools\n",
    "from PySide6.QtWidgets import QMainWindow\n",
    "from PySide6.QtUiTools import QUiLoader\n",
    "\n",
    "class RuntimeStylesheets(QMainWindow, QtStyleTools):\n",
    "    def __init__(self):\n",
    "        super().__init__()\n",
    "        self.main = QUiLoader().load('main_window.ui', self)\n",
    "\n",
    "        # Connect the menuStyles QMenu to the dynamic theme switcher\n",
    "        self.add_menu_theme(self.main, self.main.menuStyles)"
   ],
   "id": "16be62ccc032a8fb"
  },
  {
   "metadata": {},
   "cell_type": "markdown",
   "source": "This will populate `menuStyles` with all available `.xml` themes, and automatically apply the selected theme when clicked.",
   "id": "40d8a91be6f0933c"
  },
  {
   "metadata": {},
   "cell_type": "markdown",
   "source": "![menu](_images/runtime_menu.gif)",
   "id": "ef0f7ab6300a7b15"
  },
  {
   "metadata": {},
   "cell_type": "markdown",
   "source": [
    "## Create new themes\n",
    "\n",
    "A built-in dock interface is available for customizing the current theme at runtime. This tool allows you to adjust colors, density, and other visual parameters interactively.\n",
    "\n",
    "When you use this interface, a new theme file is generated and saved as `my_theme.xml` in the current working directory.\n",
    "\n",
    "To enable it, call `show_dock_theme()`:"
   ],
   "id": "d3b6daf8978da86a"
  },
  {
   "metadata": {},
   "cell_type": "code",
   "outputs": [],
   "execution_count": null,
   "source": [
    "from qt_material import QtStyleTools\n",
    "from PySide6.QtWidgets import QMainWindow\n",
    "from PySide6.QtUiTools import QUiLoader\n",
    "\n",
    "class RuntimeStylesheets(QMainWindow, QtStyleTools):\n",
    "    def __init__(self):\n",
    "        super().__init__()\n",
    "        self.main = QUiLoader().load('main_window.ui', self)\n",
    "\n",
    "        # Show the dock to create and export themes interactively\n",
    "        self.show_dock_theme(self.main)"
   ],
   "id": "411cbd7a61817f0a"
  },
  {
   "metadata": {},
   "cell_type": "markdown",
   "source": "This feature is ideal for visually designing themes and exporting them without manually editing XML files.",
   "id": "5fde525f2cc154ad"
  },
  {
   "metadata": {},
   "cell_type": "markdown",
   "source": "![dock](_images/runtime_dock.gif)",
   "id": "d40a913f27067318"
  }
 ],
 "metadata": {
  "kernelspec": {
   "display_name": "Python 3",
   "language": "python",
   "name": "python3"
  },
  "language_info": {
   "codemirror_mode": {
    "name": "ipython",
    "version": 2
   },
   "file_extension": ".py",
   "mimetype": "text/x-python",
   "name": "python",
   "nbconvert_exporter": "python",
   "pygments_lexer": "ipython2",
   "version": "2.7.6"
  }
 },
 "nbformat": 4,
 "nbformat_minor": 5
}
