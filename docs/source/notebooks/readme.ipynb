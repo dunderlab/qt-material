{
 "cells": [
  {
   "cell_type": "markdown",
   "metadata": {},
   "source": [
    "# Qt-Material\n",
    "\n",
    "![GitHub top language](https://img.shields.io/github/languages/top/dunderlab/qt-material)\n",
    "![PyPI - License](https://img.shields.io/pypi/l/qt-material)\n",
    "![PyPI](https://img.shields.io/pypi/v/qt-material)\n",
    "![PyPI - Status](https://img.shields.io/pypi/status/qt-material)\n",
    "![PyPI - Python Version](https://img.shields.io/pypi/pyversions/qt-material)\n",
    "![GitHub last commit](https://img.shields.io/github/last-commit/dunderlab/qt-material)\n",
    "![CodeFactor Grade](https://img.shields.io/codefactor/grade/github/dunderlab/qt-material)\n",
    "[![Documentation Status](https://readthedocs.org/projects/qt-material/badge/?version=latest)](https://qt-material.readthedocs.io/en/latest/?badge=latest)"
   ]
  },
  {
   "metadata": {},
   "cell_type": "markdown",
   "source": [
    "Qt-Material is a modern stylesheet library for **PySide6** and **PyQt6**, inspired by Material Design.\n",
    "\n",
    "It provides:\n",
    "- Dark and light themes\n",
    "- Custom accent colors and fonts\n",
    "- Runtime theme switching\n",
    "- Export to `.qss` + `.rcc` for use in C++ or standalone apps\n",
    "- Density scaling for accessibility\n"
   ]
  },
  {
   "cell_type": "markdown",
   "metadata": {},
   "source": [
    "## Theme Previews\n",
    "\n",
    "Qt-Material includes a variety of built-in themes, both in dark and light modes.\n",
    "\n",
    "**Dark themes:**\n",
    "\n",
    "![dark](_images/dark.gif)\n",
    "\n",
    "**Light themes:**\n",
    "\n",
    "![light](_images/light.gif)"
   ]
  },
  {
   "cell_type": "markdown",
   "metadata": {},
   "source": [
    "## Installation\n",
    "\n",
    "~~~bash\n",
    "pip install -U qt-material\n",
    "~~~\n",
    "\n",
    "Or from source:\n",
    "\n",
    "~~~bash\n",
    "git clone https://github.com/dunderlab/qt-material.git\n",
    "cd qt-material\n",
    "pip install .\n",
    "~~~"
   ]
  },
  {
   "metadata": {},
   "cell_type": "markdown",
   "source": [
    "## Documentation\n",
    "\n",
    "Comprehensive usage guides, examples, and API reference are available online:\n",
    "\n",
    "- 📚 [Read the Docs – Official Documentation](https://qt-material.readthedocs.io/en/latest/)\n",
    "- 📦 [PyPI – Package Distribution Only](https://pypi.org/project/qt-material/)"
   ]
  },
  {
   "cell_type": "markdown",
   "metadata": {},
   "source": [
    "## Basic Usage\n",
    "\n",
    "To apply a Material Design-inspired stylesheet to your Qt application, simply use `apply_stylesheet()` from the `qt_material` module.\n",
    "\n",
    "### Example using PySide6"
   ]
  },
  {
   "cell_type": "code",
   "execution_count": null,
   "metadata": {},
   "outputs": [],
   "source": [
    "import sys\n",
    "from PySide6 import QtWidgets\n",
    "from qt_material import apply_stylesheet\n",
    "\n",
    "# Create application instance and main window\n",
    "app = QtWidgets.QApplication(sys.argv)\n",
    "window = QtWidgets.QMainWindow()\n",
    "\n",
    "# Apply a built-in theme\n",
    "apply_stylesheet(app, theme='dark_teal.xml')\n",
    "\n",
    "# Show the window and execute\n",
    "window.show()\n",
    "app.exec()"
   ]
  },
  {
   "metadata": {},
   "cell_type": "markdown",
   "source": [
    "\n",
    "### Optional: Using PyQt5 or PyQt6\n",
    "\n",
    "Just replace the import line:"
   ]
  },
  {
   "metadata": {},
   "cell_type": "code",
   "outputs": [],
   "execution_count": null,
   "source": [
    "from PyQt5 import QtWidgets\n",
    "# or\n",
    "from PyQt6 import QtWidgets"
   ]
  },
  {
   "cell_type": "markdown",
   "metadata": {},
   "source": [
    "## Themes\n",
    "\n",
    "To view all available built-in themes, use the `list_themes()` function:"
   ]
  },
  {
   "metadata": {},
   "cell_type": "code",
   "outputs": [],
   "execution_count": null,
   "source": [
    "from qt_material import list_themes\n",
    "\n",
    "print(list_themes())"
   ]
  },
  {
   "metadata": {},
   "cell_type": "markdown",
   "source": [
    "Example output:\n",
    "\n",
    "~~~text\n",
    "['dark_amber.xml',\n",
    " 'dark_blue.xml',\n",
    " 'dark_cyan.xml',\n",
    " 'dark_lightgreen.xml',\n",
    " 'dark_pink.xml',\n",
    " 'dark_purple.xml',\n",
    " 'dark_red.xml',\n",
    " 'dark_teal.xml',\n",
    " 'dark_yellow.xml',\n",
    " 'light_amber.xml',\n",
    " 'light_blue.xml',\n",
    " 'light_cyan.xml',\n",
    " 'light_cyan_500.xml',\n",
    " 'light_lightgreen.xml',\n",
    " 'light_pink.xml',\n",
    " 'light_purple.xml',\n",
    " 'light_red.xml',\n",
    " 'light_teal.xml',\n",
    " 'light_yellow.xml']\n",
    "~~~\n",
    "\n",
    "To apply any of these themes, pass the filename to `apply_stylesheet()`:\n"
   ]
  },
  {
   "metadata": {},
   "cell_type": "code",
   "outputs": [],
   "execution_count": null,
   "source": "apply_stylesheet(app, theme='light_purple.xml')"
  },
  {
   "cell_type": "markdown",
   "metadata": {},
   "source": [
    "## Light themes\n",
    "\n",
    "When using a light theme, it's recommended to enable `invert_secondary=True` to ensure text and contrast are properly rendered for bright backgrounds.\n"
   ]
  },
  {
   "metadata": {},
   "cell_type": "code",
   "outputs": [],
   "execution_count": null,
   "source": [
    "from qt_material import apply_stylesheet\n",
    "\n",
    "apply_stylesheet(app, theme='light_red.xml', invert_secondary=True)"
   ]
  },
  {
   "metadata": {},
   "cell_type": "markdown",
   "source": "This helps maintain proper visibility and icon behavior in light mode."
  },
  {
   "cell_type": "markdown",
   "metadata": {},
   "source": [
    "## Environment Variables\n",
    "\n",
    "The following environment variables are related to the current theme used. These variables are **for consultation purposes only**.\n",
    "\n",
    "| Environment Variable               | Description                              | Example        |\n",
    "|------------------------------------|------------------------------------------|----------------|\n",
    "| QTMATERIAL_PRIMARYCOLOR            | Primary color                            | #2979ff        |\n",
    "| QTMATERIAL_PRIMARYLIGHTCOLOR       | A bright version of the primary color    | #75a7ff        |\n",
    "| QTMATERIAL_SECONDARYCOLOR          | Secondary color                          | #f5f5f5        |\n",
    "| QTMATERIAL_SECONDARYLIGHTCOLOR     | A bright version of the secondary color  | #ffffff        |\n",
    "| QTMATERIAL_SECONDARYDARKCOLOR      | A dark version of the secondary color    | #e6e6e6        |\n",
    "| QTMATERIAL_PRIMARYTEXTCOLOR        | Color for text over primary background   | #000000        |\n",
    "| QTMATERIAL_SECONDARYTEXTCOLOR      | Color for text over secondary background | #000000        |\n",
    "| QTMATERIAL_THEME                   | Name of theme used                       | light_blue.xml |"
   ]
  },
  {
   "cell_type": "markdown",
   "metadata": {},
   "source": [
    "## Run examples\n",
    "\n",
    "A window with almost all widgets (see the previous screenshots) is available to test all themes and **create new ones**.\n",
    "\n",
    "~~~bash\n",
    "git clone https://github.com/UN-GCPDS/qt-material.git\n",
    "cd qt-material\n",
    "python setup.py install\n",
    "cd examples/full_features\n",
    "python main.py --pyside6\n",
    "~~~\n",
    "\n",
    "This will launch a live preview application where you can:\n",
    "\n",
    "- Browse all available themes\n",
    "- Switch stylesheets at runtime\n",
    "- Customize fonts and colors\n",
    "- Export your personalized theme"
   ]
  },
  {
   "cell_type": "markdown",
   "metadata": {},
   "source": [
    "![theme](_images/theme.gif)"
   ]
  },
  {
   "cell_type": "markdown",
   "metadata": {},
   "source": [
    "## Troubleshoots"
   ]
  },
  {
   "metadata": {},
   "cell_type": "markdown",
   "source": [
    "### QMenu\n",
    "\n",
    "`QMenu` may render differently depending on the Qt backend (PySide6, PyQt6), platform, or even the style engine (e.g. [Fusion](https://doc.qt.io/qt-5/qtquickcontrols2-fusion.html)). This can affect spacing, height, and padding.\n",
    "\n",
    "To improve appearance or fix spacing issues, you can manually define `QMenu` settings using the `extra` argument:\n",
    "\n",
    "~~~python\n",
    "extra = {\n",
    "    'QMenu': {\n",
    "        'height': 50,\n",
    "        'padding': '10px 20px 10px 20px'  # top, right, bottom, left\n",
    "    }\n",
    "}\n",
    "~~~\n",
    "\n",
    "This customization is independent of the `density_scale` setting and can be used to ensure consistent appearance across platforms."
   ]
  }
 ],
 "metadata": {
  "kernelspec": {
   "display_name": "Python 3 (ipykernel)",
   "language": "python",
   "name": "python3"
  },
  "language_info": {
   "codemirror_mode": {
    "name": "ipython",
    "version": 3
   },
   "file_extension": ".py",
   "mimetype": "text/x-python",
   "name": "python",
   "nbconvert_exporter": "python",
   "pygments_lexer": "ipython3",
   "version": "3.10.9"
  }
 },
 "nbformat": 4,
 "nbformat_minor": 4
}
